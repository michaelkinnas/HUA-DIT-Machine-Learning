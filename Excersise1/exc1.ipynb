{
 "cells": [
  {
   "cell_type": "code",
   "execution_count": 92,
   "metadata": {},
   "outputs": [],
   "source": [
    "import numpy as np\n",
    "from linear_regression import LinearRegression\n",
    "from sklearn.datasets import fetch_california_housing\n",
    "from sklearn.model_selection import train_test_split"
   ]
  },
  {
   "cell_type": "code",
   "execution_count": 94,
   "metadata": {},
   "outputs": [],
   "source": [
    "# We are looking for 2x + 1\n",
    "x_train = np.array([[2],\n",
    "                    [3],\n",
    "                    [4],\n",
    "                    [5]])\n",
    "y_train = np.array([[5],\n",
    "                    [7],\n",
    "                    [9],\n",
    "                    [11]])"
   ]
  },
  {
   "cell_type": "code",
   "execution_count": 95,
   "metadata": {},
   "outputs": [],
   "source": [
    "lr2 = LinearRegression()\n",
    "lr2.fit(x_train, y_train)"
   ]
  },
  {
   "cell_type": "code",
   "execution_count": 96,
   "metadata": {},
   "outputs": [],
   "source": [
    "x_test = np.array([[6],\n",
    "                   [7]])\n",
    "y_test = np.array([[13],\n",
    "                   [15]])"
   ]
  },
  {
   "cell_type": "code",
   "execution_count": 97,
   "metadata": {},
   "outputs": [],
   "source": [
    "yhat, mse = lr2.evaluate(x_test, y_test)"
   ]
  },
  {
   "cell_type": "code",
   "execution_count": 98,
   "metadata": {},
   "outputs": [],
   "source": [
    "yhat = lr2.predict(x_test)"
   ]
  },
  {
   "cell_type": "code",
   "execution_count": 99,
   "metadata": {},
   "outputs": [
    {
     "data": {
      "text/plain": [
       "array([[13.],\n",
       "       [15.]])"
      ]
     },
     "execution_count": 99,
     "metadata": {},
     "output_type": "execute_result"
    }
   ],
   "source": [
    "yhat"
   ]
  },
  {
   "cell_type": "code",
   "execution_count": 100,
   "metadata": {},
   "outputs": [
    {
     "data": {
      "text/plain": [
       "(array([[13.],\n",
       "        [15.]]),\n",
       " array([[1.57772181e-28]]))"
      ]
     },
     "execution_count": 100,
     "metadata": {},
     "output_type": "execute_result"
    }
   ],
   "source": [
    "yhat, mse"
   ]
  },
  {
   "cell_type": "code",
   "execution_count": 101,
   "metadata": {},
   "outputs": [
    {
     "name": "stdout",
     "output_type": "stream",
     "text": [
      "W: [[2.]]\n",
      "b: [1.]\n",
      "yhat: [[13.]\n",
      " [15.]]\n",
      "MSE: [[1.57772181e-28]]\n"
     ]
    }
   ],
   "source": [
    "lr2.print_vars()"
   ]
  },
  {
   "cell_type": "code",
   "execution_count": 102,
   "metadata": {},
   "outputs": [],
   "source": [
    "lr = LinearRegression()"
   ]
  },
  {
   "cell_type": "code",
   "execution_count": 103,
   "metadata": {},
   "outputs": [],
   "source": [
    "X, y = fetch_california_housing(data_home='data/', download_if_missing=True, return_X_y = True)"
   ]
  },
  {
   "cell_type": "code",
   "execution_count": 104,
   "metadata": {},
   "outputs": [],
   "source": [
    "X_train, X_test, y_train, y_test = train_test_split(X, y, test_size=0.3, random_state=42)"
   ]
  },
  {
   "cell_type": "code",
   "execution_count": 105,
   "metadata": {},
   "outputs": [
    {
     "data": {
      "text/plain": [
       "(14448, 6192, 14448, 6192)"
      ]
     },
     "execution_count": 105,
     "metadata": {},
     "output_type": "execute_result"
    }
   ],
   "source": [
    "len(X_train), len(X_test), len(y_train), len(y_test)"
   ]
  },
  {
   "cell_type": "code",
   "execution_count": 106,
   "metadata": {},
   "outputs": [],
   "source": [
    "lr.fit(X_train, y_train)"
   ]
  },
  {
   "cell_type": "code",
   "execution_count": 107,
   "metadata": {},
   "outputs": [
    {
     "data": {
      "text/plain": [
       "array([0.72604907, 1.76743383, 2.71092161, ..., 2.07465531, 1.57371395,\n",
       "       1.82744133])"
      ]
     },
     "execution_count": 107,
     "metadata": {},
     "output_type": "execute_result"
    }
   ],
   "source": [
    "yhat = lr.predict(X_test)\n",
    "yhat"
   ]
  },
  {
   "cell_type": "code",
   "execution_count": 108,
   "metadata": {},
   "outputs": [
    {
     "data": {
      "text/plain": [
       "0.7284008391517945"
      ]
     },
     "execution_count": 108,
     "metadata": {},
     "output_type": "execute_result"
    }
   ],
   "source": [
    "yhat, mse = lr.evaluate(X_test, y_test)\n",
    "np.sqrt(mse)"
   ]
  },
  {
   "cell_type": "code",
   "execution_count": 109,
   "metadata": {},
   "outputs": [],
   "source": [
    "rmses = []\n",
    "for i in range(20):\n",
    "    X_train, X_test, y_train, y_test = train_test_split(X, y, test_size=0.3, random_state=42+i)\n",
    "    lr.fit(X_train, y_train)\n",
    "    yhat, mse = lr.evaluate(X_test, y_test)\n",
    "    rmses.append(np.sqrt(mse))   "
   ]
  },
  {
   "cell_type": "code",
   "execution_count": 110,
   "metadata": {},
   "outputs": [],
   "source": [
    "import pandas as pd\n",
    "msedf = pd.DataFrame(rmses, columns = [\"RMSE\"])"
   ]
  },
  {
   "cell_type": "code",
   "execution_count": 111,
   "metadata": {},
   "outputs": [
    {
     "name": "stdout",
     "output_type": "stream",
     "text": [
      "Mean value: RMSE    0.727997\n",
      "dtype: float64\n",
      "Standard deviation: RMSE    0.00974\n",
      "dtype: float64\n"
     ]
    }
   ],
   "source": [
    "print(f'Mean value: {msedf.mean()}\\nStandard deviation: {msedf.std()}')"
   ]
  },
  {
   "cell_type": "code",
   "execution_count": 112,
   "metadata": {},
   "outputs": [],
   "source": [
    "from sklearn.linear_model import LinearRegression\n",
    "reg = LinearRegression().fit(X, y)\n",
    "yhat_sklearn = reg.predict(X_test)"
   ]
  },
  {
   "cell_type": "code",
   "execution_count": 115,
   "metadata": {},
   "outputs": [],
   "source": [
    "lr = LinearRegression()\n",
    "lr.fit(X, y)\n",
    "yhat = lr.predict(X_test)"
   ]
  },
  {
   "cell_type": "code",
   "execution_count": null,
   "metadata": {},
   "outputs": [
    {
     "data": {
      "text/plain": [
       "array([1.46060896, 1.67035792, 2.13574529, ..., 1.64550935, 1.58514273,\n",
       "       4.93122697])"
      ]
     },
     "execution_count": 89,
     "metadata": {},
     "output_type": "execute_result"
    }
   ],
   "source": [
    "yhat"
   ]
  },
  {
   "cell_type": "code",
   "execution_count": null,
   "metadata": {},
   "outputs": [
    {
     "data": {
      "text/plain": [
       "array([1.46060896, 1.67035792, 2.13574529, ..., 1.64550935, 1.58514273,\n",
       "       4.93122697])"
      ]
     },
     "execution_count": 90,
     "metadata": {},
     "output_type": "execute_result"
    }
   ],
   "source": [
    "yhat_sklearn"
   ]
  },
  {
   "cell_type": "code",
   "execution_count": 118,
   "metadata": {},
   "outputs": [],
   "source": [
    "yhatdf = pd.DataFrame((yhat, yhat_sklearn))"
   ]
  },
  {
   "cell_type": "code",
   "execution_count": 119,
   "metadata": {},
   "outputs": [
    {
     "data": {
      "text/html": [
       "<div>\n",
       "<style scoped>\n",
       "    .dataframe tbody tr th:only-of-type {\n",
       "        vertical-align: middle;\n",
       "    }\n",
       "\n",
       "    .dataframe tbody tr th {\n",
       "        vertical-align: top;\n",
       "    }\n",
       "\n",
       "    .dataframe thead th {\n",
       "        text-align: right;\n",
       "    }\n",
       "</style>\n",
       "<table border=\"1\" class=\"dataframe\">\n",
       "  <thead>\n",
       "    <tr style=\"text-align: right;\">\n",
       "      <th></th>\n",
       "      <th>0</th>\n",
       "      <th>1</th>\n",
       "      <th>2</th>\n",
       "      <th>3</th>\n",
       "      <th>4</th>\n",
       "      <th>5</th>\n",
       "      <th>6</th>\n",
       "      <th>7</th>\n",
       "      <th>8</th>\n",
       "      <th>9</th>\n",
       "      <th>...</th>\n",
       "      <th>6182</th>\n",
       "      <th>6183</th>\n",
       "      <th>6184</th>\n",
       "      <th>6185</th>\n",
       "      <th>6186</th>\n",
       "      <th>6187</th>\n",
       "      <th>6188</th>\n",
       "      <th>6189</th>\n",
       "      <th>6190</th>\n",
       "      <th>6191</th>\n",
       "    </tr>\n",
       "  </thead>\n",
       "  <tbody>\n",
       "    <tr>\n",
       "      <th>0</th>\n",
       "      <td>1.460609</td>\n",
       "      <td>1.670358</td>\n",
       "      <td>2.135745</td>\n",
       "      <td>2.433101</td>\n",
       "      <td>2.328407</td>\n",
       "      <td>2.168262</td>\n",
       "      <td>2.505055</td>\n",
       "      <td>2.877709</td>\n",
       "      <td>3.024739</td>\n",
       "      <td>1.763524</td>\n",
       "      <td>...</td>\n",
       "      <td>1.797564</td>\n",
       "      <td>2.21009</td>\n",
       "      <td>5.602163</td>\n",
       "      <td>1.081977</td>\n",
       "      <td>2.972898</td>\n",
       "      <td>1.846045</td>\n",
       "      <td>1.016196</td>\n",
       "      <td>1.645509</td>\n",
       "      <td>1.585143</td>\n",
       "      <td>4.931227</td>\n",
       "    </tr>\n",
       "    <tr>\n",
       "      <th>1</th>\n",
       "      <td>1.460609</td>\n",
       "      <td>1.670358</td>\n",
       "      <td>2.135745</td>\n",
       "      <td>2.433101</td>\n",
       "      <td>2.328407</td>\n",
       "      <td>2.168262</td>\n",
       "      <td>2.505055</td>\n",
       "      <td>2.877709</td>\n",
       "      <td>3.024739</td>\n",
       "      <td>1.763524</td>\n",
       "      <td>...</td>\n",
       "      <td>1.797564</td>\n",
       "      <td>2.21009</td>\n",
       "      <td>5.602163</td>\n",
       "      <td>1.081977</td>\n",
       "      <td>2.972898</td>\n",
       "      <td>1.846045</td>\n",
       "      <td>1.016196</td>\n",
       "      <td>1.645509</td>\n",
       "      <td>1.585143</td>\n",
       "      <td>4.931227</td>\n",
       "    </tr>\n",
       "  </tbody>\n",
       "</table>\n",
       "<p>2 rows × 6192 columns</p>\n",
       "</div>"
      ],
      "text/plain": [
       "       0         1         2         3         4         5         6     \\\n",
       "0  1.460609  1.670358  2.135745  2.433101  2.328407  2.168262  2.505055   \n",
       "1  1.460609  1.670358  2.135745  2.433101  2.328407  2.168262  2.505055   \n",
       "\n",
       "       7         8         9     ...      6182     6183      6184      6185  \\\n",
       "0  2.877709  3.024739  1.763524  ...  1.797564  2.21009  5.602163  1.081977   \n",
       "1  2.877709  3.024739  1.763524  ...  1.797564  2.21009  5.602163  1.081977   \n",
       "\n",
       "       6186      6187      6188      6189      6190      6191  \n",
       "0  2.972898  1.846045  1.016196  1.645509  1.585143  4.931227  \n",
       "1  2.972898  1.846045  1.016196  1.645509  1.585143  4.931227  \n",
       "\n",
       "[2 rows x 6192 columns]"
      ]
     },
     "execution_count": 119,
     "metadata": {},
     "output_type": "execute_result"
    }
   ],
   "source": [
    "yhatdf"
   ]
  }
 ],
 "metadata": {
  "kernelspec": {
   "display_name": "Python 3",
   "language": "python",
   "name": "python3"
  },
  "language_info": {
   "codemirror_mode": {
    "name": "ipython",
    "version": 3
   },
   "file_extension": ".py",
   "mimetype": "text/x-python",
   "name": "python",
   "nbconvert_exporter": "python",
   "pygments_lexer": "ipython3",
   "version": "3.10.12"
  }
 },
 "nbformat": 4,
 "nbformat_minor": 2
}
