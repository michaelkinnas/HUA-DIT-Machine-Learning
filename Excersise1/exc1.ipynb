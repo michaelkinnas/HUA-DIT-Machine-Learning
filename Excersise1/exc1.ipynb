{
 "cells": [
  {
   "cell_type": "code",
   "execution_count": 100,
   "metadata": {},
   "outputs": [],
   "source": [
    "import numpy as np\n",
    "from linear_regression import LinearRegression"
   ]
  },
  {
   "cell_type": "code",
   "execution_count": 101,
   "metadata": {},
   "outputs": [],
   "source": [
    "class LinearRegression:\n",
    "    def __init__(self):\n",
    "        w = None        # Weight matrix\n",
    "        b = None        # Intercept\n",
    "        yhat = None     # Model predictions\n",
    "        mse = None      # Mean squared error\n",
    "        \n",
    "\n",
    "    def fit(self, X, y):\n",
    "        \"\"\"\n",
    "        Calculates the w and b parameters for two given matrices.\n",
    "\n",
    "        Parameters:\n",
    "        -----------\n",
    "            X : numpy array\n",
    "                A numpy array of dimensions N x p containing the dataset features.\n",
    "            \n",
    "            y : numpy array\n",
    "                A numpy array of dimensions N x 1 containing the labels.\n",
    "        \"\"\"\n",
    "        if not isinstance(X, np.ndarray) or not isinstance(y, np.ndarray):\n",
    "            raise TypeError\n",
    "\n",
    "        if X.shape[0] != y.shape[0]:\n",
    "            raise ValueError\n",
    "        \n",
    "     \n",
    "\n",
    "        X = np.insert(X, X.shape[1], 1, axis=1)\n",
    "\n",
    "        res = np.dot(np.linalg.inv(np.dot(X.T, X)), np.dot(X.T, y))\n",
    "        print(f'res: {res}')\n",
    "\n",
    "\n",
    "        self.w = res[:-1]\n",
    "        self.b = res[-1]\n",
    "    \n",
    "    def predict(self, X):\n",
    "        if self.w is None or self.b is None:\n",
    "            raise ValueError('X and y are None. fit function must be run first.')\n",
    "        \n",
    "        if not isinstance(X, np.ndarray):\n",
    "            raise TypeError\n",
    "        \n",
    "        return np.dot(X, self.w) + self.b                   # CHECK IF NP DOT IS REQUIRED OR JUST MULTIPLICATION\n",
    "        \n",
    "    def evaluate(self, X, y):\n",
    "        if self.w is None or self.b is None:\n",
    "            raise ValueError('X and y are None. fit function must be run first.')\n",
    "        \n",
    "        self.yhat = self.predict(X)\n",
    "        self.mse = 1 / len(X) * np.dot((self.yhat - y).T, (self.yhat - y))           # CHECK IF NP DOT IS REQUIRED OR JUST MULTIPLICATION\n",
    "\n",
    "        return self.yhat, self.mse\n",
    "\n",
    "    def print_vars(self):\n",
    "        print(f'W: {self.w}')\n",
    "        print(f'b: {self.b}')\n",
    "        print(f'yhat: {self.yhat}')\n",
    "        print(f'MSE: {self.mse}')\n"
   ]
  },
  {
   "cell_type": "code",
   "execution_count": 102,
   "metadata": {},
   "outputs": [],
   "source": [
    "# N = 10\n",
    "# p = 3\n",
    "\n",
    "\n",
    "# x = np.random.randint(10, size=(N, p)) \n",
    "# y = np.random.randint(10, size=(N, 1))"
   ]
  },
  {
   "cell_type": "code",
   "execution_count": 103,
   "metadata": {},
   "outputs": [],
   "source": [
    "# xtest = np.random.randint(10, size=(N, p))\n",
    "# ytest = np.random.randint(10, size=(N, 1))"
   ]
  },
  {
   "cell_type": "code",
   "execution_count": 104,
   "metadata": {},
   "outputs": [],
   "source": [
    "# ytest"
   ]
  },
  {
   "cell_type": "code",
   "execution_count": 105,
   "metadata": {},
   "outputs": [],
   "source": [
    "# yhat, mse = lr.evaluate(xtest, ytest)"
   ]
  },
  {
   "cell_type": "code",
   "execution_count": 106,
   "metadata": {},
   "outputs": [],
   "source": [
    "# ytest = lr.predict(xtest)"
   ]
  },
  {
   "cell_type": "code",
   "execution_count": 107,
   "metadata": {},
   "outputs": [],
   "source": [
    "# print(len(xtest))"
   ]
  },
  {
   "cell_type": "code",
   "execution_count": 108,
   "metadata": {},
   "outputs": [],
   "source": [
    "# yhat, mse"
   ]
  },
  {
   "cell_type": "code",
   "execution_count": 109,
   "metadata": {},
   "outputs": [],
   "source": [
    "# We are looking for 2x + 1\n",
    "x_train = np.array([[2],\n",
    "                    [3],\n",
    "                    [4],\n",
    "                    [5]])\n",
    "y_train = np.array([[5],\n",
    "                    [7],\n",
    "                    [9],\n",
    "                    [11]])"
   ]
  },
  {
   "cell_type": "code",
   "execution_count": 110,
   "metadata": {},
   "outputs": [
    {
     "name": "stdout",
     "output_type": "stream",
     "text": [
      "res: [[2.]\n",
      " [1.]]\n"
     ]
    }
   ],
   "source": [
    "lr2 = LinearRegression()\n",
    "lr2.fit(x_train, y_train)"
   ]
  },
  {
   "cell_type": "code",
   "execution_count": 111,
   "metadata": {},
   "outputs": [],
   "source": [
    "x_test = np.array([[6],\n",
    "                   [7]])\n",
    "y_test = np.array([[13],\n",
    "                   [15]])"
   ]
  },
  {
   "cell_type": "code",
   "execution_count": 112,
   "metadata": {},
   "outputs": [],
   "source": [
    "yhat, mse = lr2.evaluate(x_test, y_test)"
   ]
  },
  {
   "cell_type": "code",
   "execution_count": 113,
   "metadata": {},
   "outputs": [
    {
     "data": {
      "text/plain": [
       "(array([[13.],\n",
       "        [15.]]),\n",
       " array([[1.57772181e-28]]))"
      ]
     },
     "execution_count": 113,
     "metadata": {},
     "output_type": "execute_result"
    }
   ],
   "source": [
    "yhat, mse"
   ]
  },
  {
   "cell_type": "code",
   "execution_count": 114,
   "metadata": {},
   "outputs": [
    {
     "name": "stdout",
     "output_type": "stream",
     "text": [
      "W: [[2.]]\n",
      "b: [1.]\n",
      "yhat: [[13.]\n",
      " [15.]]\n",
      "MSE: [[1.57772181e-28]]\n"
     ]
    }
   ],
   "source": [
    "lr2.print_vars()"
   ]
  }
 ],
 "metadata": {
  "kernelspec": {
   "display_name": "Python 3",
   "language": "python",
   "name": "python3"
  },
  "language_info": {
   "codemirror_mode": {
    "name": "ipython",
    "version": 3
   },
   "file_extension": ".py",
   "mimetype": "text/x-python",
   "name": "python",
   "nbconvert_exporter": "python",
   "pygments_lexer": "ipython3",
   "version": "3.10.12"
  }
 },
 "nbformat": 4,
 "nbformat_minor": 2
}
