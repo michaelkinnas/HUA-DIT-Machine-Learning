{
 "cells": [
  {
   "cell_type": "code",
   "execution_count": 26,
   "metadata": {},
   "outputs": [
    {
     "data": {
      "text/plain": [
       "GPT2LMHeadModel(\n",
       "  (transformer): GPT2Model(\n",
       "    (wte): Embedding(50257, 768)\n",
       "    (wpe): Embedding(1024, 768)\n",
       "    (drop): Dropout(p=0.1, inplace=False)\n",
       "    (h): ModuleList(\n",
       "      (0-11): 12 x GPT2Block(\n",
       "        (ln_1): LayerNorm((768,), eps=1e-05, elementwise_affine=True)\n",
       "        (attn): GPT2Attention(\n",
       "          (c_attn): Conv1D()\n",
       "          (c_proj): Conv1D()\n",
       "          (attn_dropout): Dropout(p=0.1, inplace=False)\n",
       "          (resid_dropout): Dropout(p=0.1, inplace=False)\n",
       "        )\n",
       "        (ln_2): LayerNorm((768,), eps=1e-05, elementwise_affine=True)\n",
       "        (mlp): GPT2MLP(\n",
       "          (c_fc): Conv1D()\n",
       "          (c_proj): Conv1D()\n",
       "          (act): NewGELUActivation()\n",
       "          (dropout): Dropout(p=0.1, inplace=False)\n",
       "        )\n",
       "      )\n",
       "    )\n",
       "    (ln_f): LayerNorm((768,), eps=1e-05, elementwise_affine=True)\n",
       "  )\n",
       "  (lm_head): Linear(in_features=768, out_features=50257, bias=False)\n",
       ")"
      ]
     },
     "execution_count": 26,
     "metadata": {},
     "output_type": "execute_result"
    }
   ],
   "source": [
    "from transformers import GPT2Tokenizer, GPT2LMHeadModel, BeamSearchScorer\n",
    "import torch\n",
    "\n",
    "tokenizer = GPT2Tokenizer.from_pretrained('gpt2')\n",
    "tokenizer.pad_token_id = tokenizer.eos_token_id\n",
    "model = GPT2LMHeadModel.from_pretrained('gpt2')\n",
    "device = torch.device(\"cuda\" if torch.cuda.is_available() else \"cpu\")\n",
    "model.to(device)\n"
   ]
  },
  {
   "cell_type": "code",
   "execution_count": 99,
   "metadata": {},
   "outputs": [],
   "source": [
    "text = 'Fetus on the road, with mangled little bones'\n",
    "encoded_text = tokenizer(text, return_tensors='pt')\n",
    "encoded_text = encoded_text.to(device)"
   ]
  },
  {
   "cell_type": "code",
   "execution_count": 100,
   "metadata": {},
   "outputs": [
    {
     "name": "stderr",
     "output_type": "stream",
     "text": [
      "Setting `pad_token_id` to `eos_token_id`:50256 for open-end generation.\n"
     ]
    },
    {
     "name": "stdout",
     "output_type": "stream",
     "text": [
      "Fetus on the road, with mangled little bones in front of his nose, and a bloody nose on the road, and a huge mouth on the road with bloody nose, and his own mouth, and his own mouth, and his eyes, and he looked on helplessly, and then he went up the road; but all his companions were in his way, and then he came at last to a house with two women and one man. And the man was very angry, and threw up his hands and called the woman a prostitute. And they all went out of there and left the whole place; and there he stood up for a long time, and he said to them, 'I will come back again, my wife, and I will give you a divorce; I will make you a widow and a daughter, and I will give you a man, and all of you, and I will give you a wife and a daughter, and you shall never get married again.' And this woman said, 'But this is a woman whom I\n"
     ]
    }
   ],
   "source": [
    "#Default top_k\n",
    "response = model.generate(**encoded_text, max_new_tokens=200, do_sample=True, top_k=20)\n",
    "response_text = tokenizer.decode(response[0], skip_special_tokens=True)\n",
    "print(response_text)"
   ]
  },
  {
   "cell_type": "code",
   "execution_count": 101,
   "metadata": {},
   "outputs": [
    {
     "name": "stderr",
     "output_type": "stream",
     "text": [
      "Setting `pad_token_id` to `eos_token_id`:50256 for open-end generation.\n"
     ]
    },
    {
     "name": "stdout",
     "output_type": "stream",
     "text": [
      "Fetus on the road, with mangled little bones, by the road, you will have to go to the same place, I mean, there's a lot of walking, that'll take about an hour,\" he says. By now, my parents know what they're talking about. \"I know from the fact that we were not supposed to go to that bus stop, and had come at that bus stop, that I wouldn't have been able to see anything except a single photo of the woman who, by God, is our child,\" he adds. But a lot of the time things are not going well to his parents. In the end, it's a good kind of fun.\n",
      "\n",
      "Photo credit: The Independent/Facebook\n"
     ]
    }
   ],
   "source": [
    "#Default top_p\n",
    "response = model.generate(**encoded_text, max_new_tokens=200, do_sample=True, top_p=20)\n",
    "response_text = tokenizer.decode(response[0], skip_special_tokens=True)\n",
    "print(response_text)"
   ]
  },
  {
   "cell_type": "code",
   "execution_count": 102,
   "metadata": {},
   "outputs": [
    {
     "name": "stderr",
     "output_type": "stream",
     "text": [
      "Setting `pad_token_id` to `eos_token_id`:50256 for open-end generation.\n"
     ]
    },
    {
     "name": "stdout",
     "output_type": "stream",
     "text": [
      "Fetus on the road, with mangled little bones and broken bones. The girl's body was lying in the street, her head and body covered in blood.\n",
      "\n",
      "\"I'm sorry, I didn't mean to hurt you. I just wanted you to know that I love you, and I don't want to see you die like that.\" She sobbed. \"I can't bear to hear you cry. It hurts so bad, but I'm not going to let it get to me. You're my baby, you're mine. Don't let that happen to you again, baby. Let me be the one to take care of you for you.\"\n"
     ]
    }
   ],
   "source": [
    "#Beam search\n",
    "response = model.generate(**encoded_text, max_new_tokens=200, do_sample=True, num_beams=4, early_stopping=True, no_repeat_ngram_size=2, )\n",
    "response_text = tokenizer.decode(response[0], skip_special_tokens=True)\n",
    "print(response_text)"
   ]
  },
  {
   "cell_type": "code",
   "execution_count": 103,
   "metadata": {},
   "outputs": [
    {
     "name": "stderr",
     "output_type": "stream",
     "text": [
      "Setting `pad_token_id` to `eos_token_id`:50256 for open-end generation.\n"
     ]
    },
    {
     "name": "stdout",
     "output_type": "stream",
     "text": [
      "Fetus on the road, with mangled little bones, he told his daughter, \"I wanted to kill you.\"\n",
      "\n",
      "In the face of terrible grief and uncertainty, it may be hard to believe that such a sad story had been told and told well in the present day.\n",
      "\n",
      "The truth is, he wasn't about to go off to kill anyone. He was just about to go to prison. He had a friend in California, a mother, and a great, respected judge in Texas, who had told him that his prison \"would never be the same again.\"\n",
      "\n",
      "The only way that he would ever have another chance, would be when he got to that beautiful family home in Arizona where his father grew up. The first thing he had to do was tell his daughter that.\n",
      "\n",
      "For a while, this story was true.\n",
      "\n",
      "The story told by his mother, at the time her only child, was the story of the murder of a woman, the story that ended with his death.\n",
      "\n",
      "In her family\n"
     ]
    }
   ],
   "source": [
    "#Greedy\n",
    "response = model.generate(**encoded_text, max_new_tokens=200, do_sample=True)\n",
    "response_text = tokenizer.decode(response[0], skip_special_tokens=True)\n",
    "print(response_text)"
   ]
  },
  {
   "cell_type": "code",
   "execution_count": 104,
   "metadata": {},
   "outputs": [
    {
     "name": "stderr",
     "output_type": "stream",
     "text": [
      "Setting `pad_token_id` to `eos_token_id`:50256 for open-end generation.\n"
     ]
    },
    {
     "name": "stdout",
     "output_type": "stream",
     "text": [
      "Fetus on the road, with mangled little bones, and a black cadaver.\n",
      "\n",
      "The whole town is surrounded by dense jungle and a few of the jungle canals.\n",
      "\n",
      "There are some rivers all through the city, many that are choked with water and still flowing and wet. There are more trees out here, but it does not make much difference. Most of the people are very friendly and consider the city to be the best they can ever be, though in some cases they even see it as a curse.\n",
      "\n",
      "The river is very strong, flowing and running, as though it was a living thing that once existed. It also flows and flows through several villages and eventually through towns like Tulum, which is connected to the city by many mountain ranges.\n",
      "\n",
      "If you had to guess, most of the villagers think this is the only land in the world that has a beautiful life. They are proud, and believe they're not alone in their fear. There are many other villages in the area, but only one\n"
     ]
    }
   ],
   "source": [
    "#Sampling\n",
    "response = model.generate(**encoded_text, max_new_tokens=200, do_sample=True)\n",
    "response_text = tokenizer.decode(response[0], skip_special_tokens=True)\n",
    "print(response_text)"
   ]
  }
 ],
 "metadata": {
  "kernelspec": {
   "display_name": "Python 3",
   "language": "python",
   "name": "python3"
  },
  "language_info": {
   "codemirror_mode": {
    "name": "ipython",
    "version": 3
   },
   "file_extension": ".py",
   "mimetype": "text/x-python",
   "name": "python",
   "nbconvert_exporter": "python",
   "pygments_lexer": "ipython3",
   "version": "3.10.12"
  }
 },
 "nbformat": 4,
 "nbformat_minor": 2
}
