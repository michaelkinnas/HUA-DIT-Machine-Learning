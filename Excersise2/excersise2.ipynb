{
 "cells": [
  {
   "cell_type": "code",
   "execution_count": 1,
   "metadata": {},
   "outputs": [],
   "source": [
    "import torch\n",
    "import torchvision\n",
    "from torchvision import transforms\n",
    "from MLProject2Dataset import *"
   ]
  },
  {
   "cell_type": "code",
   "execution_count": 2,
   "metadata": {},
   "outputs": [],
   "source": [
    "# transform = transforms.Compose([transforms.ToTensor(), transforms.Normalize((0.5, 0.5, 0.5), (0.5, 0.5, 0.5))])\n",
    "# batch_size = 4\n",
    "\n",
    "# trainset = torchvision.datasets.CIFAR10(root='./data', train=True, download=True, transform=transform)\n",
    "# trainloader = torch.utils.data.DataLoader(trainset, batch_size=batch_size, shuffle=True, num_workers=2)\n",
    "\n",
    "# testset = torchvision.datasets.CIFAR10(root='./data', train=False, download=True, transform=transform)\n",
    "# testloader = torch.utils.data.DataLoader(testset, batch_size=batch_size, shuffle=False, num_workers=2)"
   ]
  },
  {
   "cell_type": "code",
   "execution_count": 10,
   "metadata": {},
   "outputs": [],
   "source": [
    "dataloader = MLProject2Dataset('./data/dermoscopy_classification')\n",
    "generator = torch.Generator().manual_seed(42)\n",
    "train, validate, test = torch.utils.data.random_split(dataloader, [0.6, 0.1, 0.3], generator)"
   ]
  },
  {
   "cell_type": "code",
   "execution_count": 3,
   "metadata": {},
   "outputs": [
    {
     "data": {
      "text/plain": [
       "(6010, 1001, 3004)"
      ]
     },
     "execution_count": 3,
     "metadata": {},
     "output_type": "execute_result"
    }
   ],
   "source": [
    "len(train), len(validate), len(test)"
   ]
  },
  {
   "cell_type": "code",
   "execution_count": 4,
   "metadata": {},
   "outputs": [
    {
     "data": {
      "text/plain": [
       "Compose(\n",
       "    Resize(size=(10, 2), interpolation=bilinear, max_size=None, antialias=warn)\n",
       "    Normalize(mean=(0.5, 0.5, 0.5), std=(0.5, 0.5, 0.5))\n",
       ")"
      ]
     },
     "execution_count": 4,
     "metadata": {},
     "output_type": "execute_result"
    }
   ],
   "source": [
    "image_transforms(10, 2)"
   ]
  },
  {
   "cell_type": "code",
   "execution_count": 8,
   "metadata": {},
   "outputs": [],
   "source": [
    "# data_dir = './data/dermoscopy_classification/'\n",
    "# metadata_fname = 'metadata.csv'\n",
    "\n",
    "\n",
    "# files = pd.DataFrame({\n",
    "#             'image_id': [Path(path).stem for path in glob.glob(f'{data_dir}/*/*')],\n",
    "#             'path': [os.path.abspath(path) for path in glob.glob(f'{data_dir}/*/*')]\n",
    "#         })\n",
    "\n",
    "# metadata = pd.read_csv(data_dir + '/' + metadata_fname)\n",
    "# metadata['dx'] = metadata['dx'].astype('category').cat.codes\n",
    "\n",
    "# dataset = pd.merge(files, metadata[['dx', 'image_id']], on='image_id')\n"
   ]
  },
  {
   "cell_type": "code",
   "execution_count": null,
   "metadata": {},
   "outputs": [],
   "source": [
    "import torch\n",
    "from torch import nn\n",
    "from torch.utils.data import Dataset, DataLoader\n",
    "from torchvision import transforms\n",
    "from torch import optim\n",
    "import torchvision\n",
    "import pandas as pd\n",
    "import glob\n",
    "import os\n",
    "from pathlib import Path\n",
    "import PIL"
   ]
  },
  {
   "cell_type": "code",
   "execution_count": null,
   "metadata": {},
   "outputs": [],
   "source": [
    "# loss_fn = nn.CrossEntropyLoss()\n",
    "# optimizer = optim.Adam(model.params(), lr=0.0001)"
   ]
  },
  {
   "cell_type": "code",
   "execution_count": null,
   "metadata": {},
   "outputs": [],
   "source": [
    "def train(model: nn.Module, trainloader: DataLoader, valloader: DataLoader = None, \n",
    "          epochs: int = 10, optimizer: optim = None, loss: nn.modules.loss = None,\n",
    "          device: str = 'cpu', print_period: int = 10) -> None:\n",
    "    \n",
    "    \n",
    "    model.train()\n",
    "    for epoch in range(epochs):\n",
    "        running_loss = 0.0\n",
    "        for batch, (X, y) in enumerate(trainloader, 0):\n",
    "            # Move to device\n",
    "            X, y = X.to(device), y.to(device)\n",
    "\n",
    "            # Zero gradients\n",
    "            optimizer.zero_grad()\n",
    "\n",
    "            # Forward pass\n",
    "            pred = model(X)\n",
    "            current_loss = loss(pred, y)\n",
    "\n",
    "            # Backpropagation\n",
    "            current_loss.backward()\n",
    "\n",
    "            # Parameter update\n",
    "            optimizer.step()\n",
    "\n",
    "            # Print\n",
    "\n",
    "            \n",
    "            running_loss += current_loss.item()\n",
    "\n",
    "            \n",
    "            if batch % print_period == print_period-1:\n",
    "                avg_loss = running_loss / print_period\n",
    "\n",
    "                \n",
    "                model.eval()\n",
    "                for batch, (X, y) in enumerate(trainloader, 0):\n",
    "                \n",
    "                    print(f'[Epoch: {epoch}, batch: {batch:5d}] loss: {avg_loss:.3f}')\n",
    "                "
   ]
  },
  {
   "cell_type": "code",
   "execution_count": null,
   "metadata": {},
   "outputs": [],
   "source": [
    "if seed != None:\n",
    "            torch.manual_seed(seed)\n",
    "\n",
    "        device = self.device\n",
    "\n",
    "        loss_fn=self.loss_fn\n",
    "        optimizer = self.optimizer       \n",
    "\n",
    "        # print(f\"Training on: {device}\")\n",
    "\n",
    "        epochs = epochs\n",
    "        \n",
    "        X_train, y_train, X_test, y_test = X_train.to(device), y_train.to(device), X_test.to(device), y_test.to(device)\n",
    "        \n",
    "        self.train()\n",
    "\n",
    "        # for epoch in tqdm(range(epochs), desc='Training...'):\n",
    "        for epoch in range(epochs):\n",
    "            y_pred = self(X_train).to(device)\n",
    "\n",
    "            loss = loss_fn(y_pred, y_train)\n",
    "\n",
    "            optimizer.zero_grad()\n",
    "            loss.backward()\n",
    "            optimizer.step()\n",
    "\n",
    "            # Calculate prediction accuracy\n",
    "            acc = accuracy_fn(y_pred=torch.round(torch.sigmoid(y_pred)), y_true=y_train)\n",
    "\n",
    "           \n",
    "            ### Testing\n",
    "            self.eval()\n",
    "            with torch.inference_mode():\n",
    "                y_pred_test = self(X_test)\n",
    "                test_loss = loss_fn(y_pred_test, y_test)\n",
    "                test_acc = accuracy_fn(y_pred=torch.round(torch.sigmoid(y_pred_test)), y_true=y_test)\n",
    "          \n",
    "            if epoch % int(epochs/10) == 0 or epoch == epochs-1:\n",
    "                \n",
    "                self.train_accuracy_progess.append({\n",
    "                    'epoch': epoch,\n",
    "                    'train_acc' : acc,\n",
    "                    'test_acc': test_acc\n",
    "                })\n",
    "\n",
    "                if verbose: print(f'Epoch: {epoch:04d} | Loss: {loss:.4f}, Acc: {acc:.2f}% | Test Loss: {test_loss:.4f}, Test Acc: {test_acc:.2f}%')"
   ]
  }
 ],
 "metadata": {
  "kernelspec": {
   "display_name": "Python 3",
   "language": "python",
   "name": "python3"
  },
  "language_info": {
   "codemirror_mode": {
    "name": "ipython",
    "version": 3
   },
   "file_extension": ".py",
   "mimetype": "text/x-python",
   "name": "python",
   "nbconvert_exporter": "python",
   "pygments_lexer": "ipython3",
   "version": "3.10.12"
  }
 },
 "nbformat": 4,
 "nbformat_minor": 2
}
